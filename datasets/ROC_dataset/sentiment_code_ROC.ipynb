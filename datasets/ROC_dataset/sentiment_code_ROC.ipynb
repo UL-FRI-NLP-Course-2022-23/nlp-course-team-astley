{
 "cells": [
  {
   "cell_type": "code",
   "execution_count": null,
   "outputs": [],
   "source": [
    "import re\n",
    "import spacy\n",
    "import nltk\n",
    "from nltk.tokenize import sent_tokenize\n",
    "from transformers import pipeline, DistilBertTokenizer, DistilBertForSequenceClassification\n",
    "import torch\n",
    "from concurrent.futures import ThreadPoolExecutor, as_completed\n",
    "\n",
    "# Download the NLTK package required for sentence tokenization\n",
    "nltk.download('punkt')\n",
    "\n",
    "class SentimentAnalysis:\n",
    "    def __init__(self):\n",
    "        # Load the pre-trained SpaCy model\n",
    "        self.nlp = spacy.load(\"en_core_web_trf\")\n",
    "        self.model_path = './sentiment_model/sentiment_model'\n",
    "        self.tokenizer = DistilBertTokenizer.from_pretrained(self.model_path, local_files_only=True)\n",
    "        self.model = DistilBertForSequenceClassification.from_pretrained(self.model_path, num_labels=2)\n",
    "\n",
    "    def detect_characters(self, story):\n",
    "        doc = self.nlp(story)\n",
    "        characters = set()\n",
    "\n",
    "        for ent in doc.ents:\n",
    "            if ent.label_ == \"PERSON\":\n",
    "                characters.add(ent.text)\n",
    "\n",
    "        return list(characters)\n",
    "\n",
    "    def extract_character_sentences(self, story, characters):\n",
    "        sentences = sent_tokenize(story)\n",
    "        character_sentences = {}\n",
    "\n",
    "        for i, sentence in enumerate(sentences):\n",
    "            for name in characters:\n",
    "                if re.search(r'\\b' + re.escape(name) + r'\\b', sentence, re.IGNORECASE):\n",
    "                    if name not in character_sentences:\n",
    "                        character_sentences[name] = []\n",
    "                    character_sentences[name].append(sentence)\n",
    "\n",
    "        return character_sentences\n",
    "\n",
    "    def fine_tuned_sentiment_analysis(self, character_sentences, max_length=512):\n",
    "        character_sentiments = {}\n",
    "\n",
    "        for name, contexts in character_sentences.items():\n",
    "            if contexts:\n",
    "                weighted_scores = []\n",
    "                weight = 1\n",
    "                for context in contexts:\n",
    "                    inputs = self.tokenizer(context, padding=True, truncation=True, return_tensors='pt')\n",
    "                    with torch.no_grad():\n",
    "                        outputs = self.model(**inputs)\n",
    "                        logits = outputs.logits\n",
    "\n",
    "                    predicted_label = torch.argmax(logits, dim=1).item() * weight\n",
    "                    compound_score = \"positive\" if predicted_label >= 0.5 else \"negative\"\n",
    "                    weighted_scores.append(compound_score)\n",
    "                if weighted_scores.count(\"positive\") > weighted_scores.count(\"negative\"):\n",
    "                    character_sentiments[name] = \"positive\"\n",
    "                else:\n",
    "                    character_sentiments[name] = \"negative\"\n",
    "\n",
    "        return character_sentiments"
   ],
   "metadata": {
    "collapsed": false,
    "ExecuteTime": {
     "start_time": "2023-05-22T18:18:06.399152Z",
     "end_time": "2023-05-22T18:18:15.459967Z"
    }
   }
  },
  {
   "cell_type": "code",
   "execution_count": null,
   "outputs": [],
   "source": [
    "import csv\n",
    "import json\n",
    "\n",
    "with open('non_names_characters.csv', 'r') as csvfile:\n",
    "    reader = csv.reader(csvfile, delimiter='\\n')\n",
    "    non_names = [row[0].lower() for row in reader]\n",
    "\n",
    "\n",
    "def process_story(i, row, sentiment):\n",
    "    story = ' '.join(row)\n",
    "    characters = sentiment.detect_characters(story)\n",
    "    if not characters:\n",
    "        characters = non_names\n",
    "    character_sentences = sentiment.extract_character_sentences(story, characters)\n",
    "    character_sentiments = sentiment.fine_tuned_sentiment_analysis(character_sentences)\n",
    "\n",
    "    characters_info = {}\n",
    "    characters_info[\"story_id\"] = i + 52665\n",
    "    characters_info[\"characters\"] = {name: sentiment for name, sentiment in character_sentiments.items()}\n",
    "    print(characters_info)\n",
    "    return characters_info\n",
    "\n",
    "\n",
    "sentiment = SentimentAnalysis()\n",
    "with open('val_reformatted.csv', 'r') as csvfile:\n",
    "    reader = csv.reader(csvfile, delimiter=',')\n",
    "    header = next(reader)\n",
    "\n",
    "    with ThreadPoolExecutor() as executor:\n",
    "        futures = {executor.submit(process_story, i, row, sentiment) for i, row in enumerate(reader)}\n",
    "        stories = [future.result() for future in as_completed(futures)]\n",
    "\n",
    "with open(\"val_dataset.json\", \"w\") as outfile:\n",
    "    json.dump(stories, outfile, indent=4)"
   ],
   "metadata": {
    "collapsed": false,
    "ExecuteTime": {
     "start_time": "2023-05-22T17:13:00.491933Z",
     "end_time": "2023-05-22T17:14:11.748731Z"
    }
   }
  },
  {
   "cell_type": "code",
   "execution_count": null,
   "outputs": [],
   "source": [
    "with open(\"ROC_train_stories_context.json\", 'r') as file_characters:\n",
    "    data = json.load(file_characters)\n",
    "    data.sort(key=lambda x: x['story_id'])\n",
    "    with open(\"ROC_train_stories_context1.json\", \"w\") as outfile:\n",
    "        json.dump(data, outfile, indent=4)"
   ],
   "metadata": {
    "collapsed": false,
    "ExecuteTime": {
     "start_time": "2023-05-22T23:57:22.064613Z",
     "end_time": "2023-05-22T23:57:22.303900Z"
    }
   }
  },
  {
   "cell_type": "code",
   "execution_count": null,
   "outputs": [],
   "source": [
    "import csv\n",
    "import json\n",
    "\n",
    "stories = []\n",
    "sentiment = SentimentAnalysis()\n",
    "with open('test.csv', 'r') as csvfile:\n",
    "    reader = csv.reader(csvfile, delimiter=',')\n",
    "    header = next(reader)\n",
    "    for i, row in enumerate(reader):\n",
    "        futures = process_story(i, ' '.join(row[0:4]), sentiment)\n",
    "        stories.append(futures)\n",
    "\n",
    "with open(\"test.json\", \"w\") as outfile:\n",
    "    json.dump(stories, outfile, indent=4)"
   ],
   "metadata": {
    "collapsed": false
   }
  }
 ],
 "metadata": {
  "kernelspec": {
   "display_name": "Python 3",
   "language": "python",
   "name": "python3"
  },
  "language_info": {
   "codemirror_mode": {
    "name": "ipython",
    "version": 2
   },
   "file_extension": ".py",
   "mimetype": "text/x-python",
   "name": "python",
   "nbconvert_exporter": "python",
   "pygments_lexer": "ipython2",
   "version": "2.7.6"
  }
 },
 "nbformat": 4,
 "nbformat_minor": 0
}

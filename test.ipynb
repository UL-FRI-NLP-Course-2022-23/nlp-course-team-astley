{
 "cells": [
  {
   "cell_type": "code",
   "execution_count": 24,
   "metadata": {},
   "outputs": [],
   "source": [
    "import json\n",
    "\n",
    "# Read the JSON array from the file\n",
    "with open('no_sentiment.json', 'r') as file:\n",
    "    json_array = json.load(file)\n",
    "\n",
    "# Loop over each element and update \"story_id\"\n",
    "# for element in json_array:\n",
    "    # element['story_id'] += 2\n"
   ]
  },
  {
   "cell_type": "code",
   "execution_count": 27,
   "metadata": {},
   "outputs": [],
   "source": [
    "import csv\n",
    "\n",
    "# Define the CSV file path\n",
    "csv_file = 'train.csv'\n",
    "\n",
    "# Create an empty list to store the data\n",
    "data = []\n",
    "\n",
    "# Open the CSV file for reading\n",
    "with open(csv_file, 'r') as file:\n",
    "    # Create a CSV reader object\n",
    "    reader = csv.reader(file)\n",
    "    next(reader)\n",
    "    \n",
    "    # Iterate over each row in the CSV file\n",
    "    for row in reader:\n",
    "        # Append the row to the data list\n",
    "        data.append(row)\n",
    "\n",
    "final_data = []\n",
    "\n",
    "# Print the contents of the data array\n",
    "for el in json_array:\n",
    "    el[\"story\"] = data[el[\"story_id\"]]\n",
    "    del el[\"characters\"]\n",
    "\n",
    "del data"
   ]
  },
  {
   "cell_type": "code",
   "execution_count": 41,
   "metadata": {},
   "outputs": [
    {
     "ename": "NameError",
     "evalue": "name 'data' is not defined",
     "output_type": "error",
     "traceback": [
      "\u001b[1;31m---------------------------------------------------------------------------\u001b[0m",
      "\u001b[1;31mNameError\u001b[0m                                 Traceback (most recent call last)",
      "\u001b[1;32m~\\AppData\\Local\\Temp\\ipykernel_17076\\3614806026.py\u001b[0m in \u001b[0;36m<module>\u001b[1;34m\u001b[0m\n\u001b[1;32m----> 1\u001b[1;33m \u001b[0mprint\u001b[0m\u001b[1;33m(\u001b[0m\u001b[0mlen\u001b[0m\u001b[1;33m(\u001b[0m\u001b[0mdata\u001b[0m\u001b[1;33m)\u001b[0m\u001b[1;33m)\u001b[0m\u001b[1;33m\u001b[0m\u001b[1;33m\u001b[0m\u001b[0m\n\u001b[0m\u001b[0;32m      2\u001b[0m \u001b[1;31m# Write the updated JSON array to a new file\u001b[0m\u001b[1;33m\u001b[0m\u001b[1;33m\u001b[0m\u001b[1;33m\u001b[0m\u001b[0m\n\u001b[0;32m      3\u001b[0m \u001b[1;31m# with open('new.json', 'w') as file:\u001b[0m\u001b[1;33m\u001b[0m\u001b[1;33m\u001b[0m\u001b[1;33m\u001b[0m\u001b[0m\n\u001b[0;32m      4\u001b[0m \u001b[1;31m#     json.dump(json_array, file)\u001b[0m\u001b[1;33m\u001b[0m\u001b[1;33m\u001b[0m\u001b[1;33m\u001b[0m\u001b[0m\n",
      "\u001b[1;31mNameError\u001b[0m: name 'data' is not defined"
     ]
    }
   ],
   "source": [
    "\n",
    "# Write the updated JSON array to a new file\n",
    "# with open('new.json', 'w') as file:\n",
    "#     json.dump(json_array, file)"
   ]
  },
  {
   "cell_type": "code",
   "execution_count": 39,
   "metadata": {},
   "outputs": [],
   "source": [
    "characters = [\"woman\", \"man\", \"family\", \"team\", \"girl\", \"girls\", \"dog\", \"moose\", \"teenager\", \"kid\", \"kids\", \"beverly\", \"husband\", \"baby\", \"police\", \"friend\", \"friends\",\n",
    "\"drivers\", \"couple\", \"teams\", \"couples\", \"driver\", \"inspector\", \"poster\", \"moderator\", \"moderator\",\"boy\", \"author\", \"schooler\", \"niece\", \"bees\", \"boys\", \"scouts\", \"graduate\", \n",
    "\"mom\", \"ranger\", \"seller\", \"candiate\", \"crowd\", \"robber\", \"people\", \"students\", \"wife\", \"owner\"]"
   ]
  },
  {
   "cell_type": "code",
   "execution_count": 40,
   "metadata": {},
   "outputs": [],
   "source": [
    "import json\n",
    "\n",
    "# Read the JSON array from the file\n",
    "with open('new.json', 'r') as file:\n",
    "    json_array = json.load(file)\n",
    "\n",
    "for element in json_array:\n",
    "    alls = {}\n",
    "    for sentence in element[\"story\"]:\n",
    "        sent = sentence.lower().replace(\".\", \"\").split()\n",
    "        for word in sent:\n",
    "            if word in characters:\n",
    "                alls[word] = True\n",
    "    element[\"chars\"] = list(alls.keys())    \n",
    "\n",
    "\n",
    "\n",
    "# Write the updated JSON array to a new file\n",
    "with open('new1.json', 'w') as file:\n",
    "    json.dump(json_array, file)"
   ]
  },
  {
   "cell_type": "code",
   "execution_count": 51,
   "metadata": {},
   "outputs": [],
   "source": [
    "import csv\n",
    "\n",
    "# Define the CSV file path\n",
    "csv_file = 'val.csv'\n",
    "csv_fileW = 'output.csv'\n",
    "my_array = []\n",
    "# Open the CSV file for writing\n",
    "# Open the CSV file for reading\n",
    "with open(csv_file, 'r') as file:\n",
    "    # Create a CSV reader object\n",
    "    reader = csv.reader(file)\n",
    "    next(reader)\n",
    "    \n",
    "    # Iterate over each row in the CSV file\n",
    "    for row in reader:\n",
    "        # Append the row to the data list\n",
    "        final = row[:4]\n",
    "        if(row[6] == \"1\"):\n",
    "           final.append(row[4])\n",
    "        else:\n",
    "            final.append(row[5])\n",
    "        my_array.append(final)\n",
    "\n",
    "with open(csv_fileW, 'w', newline='') as file:\n",
    "    # Create a CSV writer object\n",
    "    writer = csv.writer(file)\n",
    "    \n",
    "    # Write each row of the 2D array as a separate line in the CSV file\n",
    "    for row in my_array:\n",
    "        writer.writerow(row)"
   ]
  },
  {
   "cell_type": "code",
   "execution_count": null,
   "metadata": {},
   "outputs": [],
   "source": []
  }
 ],
 "metadata": {
  "kernelspec": {
   "display_name": "Python 3",
   "language": "python",
   "name": "python3"
  },
  "language_info": {
   "codemirror_mode": {
    "name": "ipython",
    "version": 3
   },
   "file_extension": ".py",
   "mimetype": "text/x-python",
   "name": "python",
   "nbconvert_exporter": "python",
   "pygments_lexer": "ipython3",
   "version": "3.9.0"
  },
  "orig_nbformat": 4
 },
 "nbformat": 4,
 "nbformat_minor": 2
}

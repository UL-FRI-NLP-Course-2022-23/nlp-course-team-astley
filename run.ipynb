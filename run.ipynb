{
 "cells": [
  {
   "cell_type": "markdown",
   "source": [
    "# Here you can try our model for generating ending of short story by considering sentiment analysis\n",
    "\n",
    "First you need to download model from [OneDrive](https://unilj-my.sharepoint.com/:f:/g/personal/lb4684_student_uni-lj_si/Er6Mr6tCjLBLvyNwu0h3PF4BU992FwGcOfERVh2uEhx9aA?e=KCT1lg)\n",
    "\n",
    "Secondly, we need to install all require packages to run our function for predicting ending.\n",
    "Please run bellow command"
   ],
   "metadata": {
    "collapsed": false
   }
  },
  {
   "cell_type": "code",
   "execution_count": null,
   "outputs": [],
   "source": [
    "!pip install -r requirements.txt"
   ],
   "metadata": {
    "collapsed": false
   }
  },
  {
   "cell_type": "markdown",
   "source": [
    "Then you need to provide a short story without ending and sentiment for characters in story. Note that there is only \"negative\" and \"positive\" sentiment."
   ],
   "metadata": {
    "collapsed": false
   }
  },
  {
   "cell_type": "code",
   "execution_count": 8,
   "outputs": [
    {
     "name": "stderr",
     "output_type": "stream",
     "text": [
      "Setting `pad_token_id` to `eos_token_id`:50256 for open-end generation.\n"
     ]
    },
    {
     "name": "stdout",
     "output_type": "stream",
     "text": [
      "Ending 0:  The next morning, he was attacked by an old woman who tried to kill himself with her scissors.\"\n",
      "Ending 1:  When he returned to see what was happening, it turned out that this man wasn  who wanted nothing more than for me not be my husband again.\"\n",
      "Ending 2:  The next morning, he was found dead on an empty street outside her home with no trace at all behind it.\"\n",
      "Ending 3:  The next morning, he was found dead inside her bedroom with two stab wounds to both sides.\"\n",
      "Ending 4:  The next morning, he was found dead on top floor with blood pouring out from inside her body.\"\n"
     ]
    }
   ],
   "source": [
    "import os\n",
    "from models import StoryEndingGenerator, SentimentAnalysis, to_encode_string, perplexity\n",
    "os.environ[\"KMP_DUPLICATE_LIB_OK\"] = \"True\"\n",
    "\n",
    "def get_first_sentence(ending):\n",
    "    sentences = ending.split('\\n')\n",
    "    first_sentence = sentences[0]\n",
    "    cleaned_sentence = ' '.join(word for word in first_sentence.split(' ') if word != '[PAD]')\n",
    "    return cleaned_sentence\n",
    "\n",
    "# input path to model downloaded from Google Drive\n",
    "ending_model = StoryEndingGenerator(\"NLP_last_model\")\n",
    "\n",
    "# Provide context of characters in stories in list form ex. [\"Jane negative\", \"George positive\" ...]\n",
    "context = [\"Tom negative\"]\n",
    "# Provide your short story without ending.\n",
    "story = \"\"\"Tom had a very short temper. One day a guest made him very angry. He punched a hole in the wall of his house. Tom's guest became afraid and left quickly.\"\"\"\n",
    "\n",
    "\n",
    "prompt = to_encode_string(context, story)\n",
    "outputs = ending_model.generate_story(prompt, skip_special=False)\n",
    "for ending_number, ending_text in outputs['endings'].items():\n",
    "    cleaned_sentence = get_first_sentence(ending_text)\n",
    "    print(f\"Ending {ending_number+1}: {cleaned_sentence}\")"
   ],
   "metadata": {
    "collapsed": false,
    "ExecuteTime": {
     "start_time": "2023-05-24T20:57:21.945619Z",
     "end_time": "2023-05-24T20:58:51.676402Z"
    }
   }
  }
 ],
 "metadata": {
  "kernelspec": {
   "display_name": "Python 3",
   "language": "python",
   "name": "python3"
  },
  "language_info": {
   "codemirror_mode": {
    "name": "ipython",
    "version": 2
   },
   "file_extension": ".py",
   "mimetype": "text/x-python",
   "name": "python",
   "nbconvert_exporter": "python",
   "pygments_lexer": "ipython2",
   "version": "2.7.6"
  }
 },
 "nbformat": 4,
 "nbformat_minor": 0
}

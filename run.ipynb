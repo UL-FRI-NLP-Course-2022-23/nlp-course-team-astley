{
 "cells": [
  {
   "cell_type": "markdown",
   "source": [
    "# Here you can try our model for generating ending of short story by considering sentiment analysis\n",
    "\n",
    "First you need to download model from [OneDrive](https://unilj-my.sharepoint.com/:f:/g/personal/lb4684_student_uni-lj_si/Er6Mr6tCjLBLvyNwu0h3PF4BU992FwGcOfERVh2uEhx9aA?e=KCT1lg)\n",
    "\n",
    "Secondly, we need to install all require packages to run our function for predicting ending.\n",
    "Please run bellow command"
   ],
   "metadata": {
    "collapsed": false
   }
  },
  {
   "cell_type": "code",
   "execution_count": null,
   "outputs": [],
   "source": [
    "!pip install -r requirements.txt"
   ],
   "metadata": {
    "collapsed": false
   }
  },
  {
   "cell_type": "markdown",
   "source": [
    "Then you need to provide a short story without ending and sentiment for characters in story. Note that there is only \"negative\" and \"positive\" sentiment."
   ],
   "metadata": {
    "collapsed": false
   }
  },
  {
   "cell_type": "code",
   "execution_count": 1,
   "outputs": [
    {
     "name": "stderr",
     "output_type": "stream",
     "text": [
      "[nltk_data] Downloading package punkt to\n",
      "[nltk_data]     /Users/lukabrecelj/nltk_data...\n",
      "[nltk_data]   Package punkt is already up-to-date!\n",
      "Setting `pad_token_id` to `eos_token_id`:50256 for open-end generation.\n"
     ]
    },
    {
     "name": "stdout",
     "output_type": "stream",
     "text": [
      "Ending 1:  The next morning, he found himself on top with two other people who were sitting at an empty table while they watched TV from their windows.\"\n",
      "Ending 2:  The next morning, he was attacked by another person who tried to steal her purse from an elderly woman while she slept on top at their home.\"\n",
      "Ending 3:  The next morning, he was arrested for stealing from another man who lived nearby with them; this time it wasn  that happened to be Mr Gwynn.\"\n",
      "Ending 4:  The other guests were not so lucky, but they managed to escape from their danger by going back into town with them.\"\n",
      "Ending 5:  The other guests then fled, but they did not find them yet.\"\n"
     ]
    }
   ],
   "source": [
    "import os\n",
    "from src.utils import StoryEndingGenerator, to_encode_string\n",
    "os.environ[\"KMP_DUPLICATE_LIB_OK\"] = \"True\"\n",
    "\n",
    "def get_first_sentence(ending):\n",
    "    sentences = ending.split('\\n')\n",
    "    first_sentence = sentences[0]\n",
    "    cleaned_sentence = ' '.join(word for word in first_sentence.split(' ') if word != '[PAD]')\n",
    "    return cleaned_sentence\n",
    "\n",
    "# input path to model downloaded from OneDrive\n",
    "ending_model = StoryEndingGenerator(\"NLP_last_model\")\n",
    "\n",
    "# Provide context of characters in stories in list form ex. [\"Jane negative\", \"George positive\" ...]\n",
    "context = [\"Tom negative\"]\n",
    "# Provide your short story without ending.\n",
    "story = \"\"\"Tom had a very short temper. One day a guest made him very angry. He punched a hole in the wall of his house. Tom's guest became afraid and left quickly.\"\"\"\n",
    "\n",
    "\n",
    "prompt = to_encode_string(context, story)\n",
    "outputs = ending_model.generate_story(prompt, skip_special=False)\n",
    "for ending_number, ending_text in outputs['endings'].items():\n",
    "    cleaned_sentence = get_first_sentence(ending_text)\n",
    "    print(f\"Ending {ending_number+1}: {cleaned_sentence}\")"
   ],
   "metadata": {
    "collapsed": false,
    "ExecuteTime": {
     "start_time": "2023-05-26T19:18:48.049085Z",
     "end_time": "2023-05-26T19:19:37.549530Z"
    }
   }
  },
  {
   "cell_type": "markdown",
   "source": [
    "If you also want to try our fine-tune Sentiment Analysis model then you can cheek also this.\n",
    "\n",
    "From [here](https://drive.google.com/file/d/1AJUJJIqDjHqGwzm1zOueAJIE631bACat/view?usp=sharing) download fine-tune model and use it in the code below"
   ],
   "metadata": {
    "collapsed": false
   }
  },
  {
   "cell_type": "code",
   "execution_count": 2,
   "outputs": [
    {
     "name": "stdout",
     "output_type": "stream",
     "text": [
      "Metal device set to: Apple M2 Pro\n",
      "Pretrained Sentiment model: {'Annie': 'positive', 'Bob': 'positive'}\n",
      "Fine-tune Sentiment model: {'Annie': 'negative', 'Bob': 'negative'}\n"
     ]
    }
   ],
   "source": [
    "from src.utils import SentimentAnalysis\n",
    "\n",
    "\n",
    "# Please provide path to downloaded sentiment model\n",
    "sentiment = SentimentAnalysis(\"sentiment_model\")\n",
    "\n",
    "# Please enter sentences that include specific names for Sentiment Analysis\n",
    "sentence = \"Bob is a evil and a thief, but in love with Annie.\"\n",
    "\n",
    "characters = sentiment.detect_characters(sentence)\n",
    "character_sentences = sentiment.extract_character_sentences(sentence, characters)\n",
    "character_sentiments = sentiment.sentiment_analysis(character_sentences)\n",
    "character_sentiments_fine = sentiment.fine_tuned_sentiment_analysis(character_sentences)\n",
    "\n",
    "print(\"Pretrained Sentiment model:\", character_sentiments)\n",
    "print(\"Fine-tune Sentiment model:\", character_sentiments_fine)"
   ],
   "metadata": {
    "collapsed": false,
    "ExecuteTime": {
     "start_time": "2023-05-26T19:20:13.864964Z",
     "end_time": "2023-05-26T19:20:23.660521Z"
    }
   }
  }
 ],
 "metadata": {
  "kernelspec": {
   "display_name": "Python 3",
   "language": "python",
   "name": "python3"
  },
  "language_info": {
   "codemirror_mode": {
    "name": "ipython",
    "version": 2
   },
   "file_extension": ".py",
   "mimetype": "text/x-python",
   "name": "python",
   "nbconvert_exporter": "python",
   "pygments_lexer": "ipython2",
   "version": "2.7.6"
  }
 },
 "nbformat": 4,
 "nbformat_minor": 0
}

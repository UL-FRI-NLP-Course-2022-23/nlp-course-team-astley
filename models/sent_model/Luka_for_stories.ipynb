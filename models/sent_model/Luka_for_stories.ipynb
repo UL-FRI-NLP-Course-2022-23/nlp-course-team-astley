{
 "cells": [
  {
   "cell_type": "code",
   "execution_count": 1,
   "outputs": [],
   "source": [
    "import json\n",
    "\n",
    "with open('../../results/stories_context_new.json', 'r+') as f:\n",
    "    data = json.load(f)\n",
    "    for story in data:\n",
    "        filtered_characters = {key: value for key, value in story[\"characters\"].items() if value != \"None\"}\n",
    "        story[\"characters\"] = filtered_characters\n",
    "\n",
    "    f.seek(0)\n",
    "    f.truncate(0)\n",
    "    f.flush()\n",
    "    json.dump(data, f, indent=4)"
   ],
   "metadata": {
    "collapsed": false,
    "ExecuteTime": {
     "start_time": "2023-05-07T20:22:04.420421Z",
     "end_time": "2023-05-07T20:22:04.435471Z"
    }
   }
  },
  {
   "cell_type": "code",
   "execution_count": 66,
   "outputs": [],
   "source": [
    "import json\n",
    "from IPython.display import clear_output\n",
    "import time\n",
    "\n",
    "with open('./results/stories_context.json', 'r+') as f:\n",
    "    data = json.load(f)\n",
    "    for i in data:\n",
    "        if i[\"characters\"] == {}:\n",
    "            print(i[\"story_id\"])\n",
    "            with open(\"./fairy_tales/\" + i[\"story_id\"]) as story:\n",
    "                sto = story.read()\n",
    "                with open(\"./zgodbica.txt\", \"w\") as zgo:\n",
    "                    zgo.write(sto)\n",
    "            time.sleep(10)\n",
    "            vnos = input()\n",
    "            with open('temp.txt') as file:\n",
    "                line = file.readlines()\n",
    "                temp = {}\n",
    "                for j in line:\n",
    "                    temp[j.strip()] = 100\n",
    "            i[\"characters\"] = temp\n",
    "            if vnos == 'DA':\n",
    "                f.seek(0)\n",
    "                f.truncate(0)\n",
    "                f.flush()\n",
    "                json.dump(data, f, indent=4)\n",
    "                break\n",
    "            clear_output(wait=True)\n",
    "    f.seek(0)\n",
    "    f.truncate(0)\n",
    "    f.flush()\n",
    "    json.dump(data, f, indent=4)"
   ],
   "metadata": {
    "collapsed": false
   }
  }
 ],
 "metadata": {
  "kernelspec": {
   "display_name": "Python 3",
   "language": "python",
   "name": "python3"
  },
  "language_info": {
   "codemirror_mode": {
    "name": "ipython",
    "version": 2
   },
   "file_extension": ".py",
   "mimetype": "text/x-python",
   "name": "python",
   "nbconvert_exporter": "python",
   "pygments_lexer": "ipython2",
   "version": "2.7.6"
  }
 },
 "nbformat": 4,
 "nbformat_minor": 0
}
